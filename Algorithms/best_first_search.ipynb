{
 "cells": [
  {
   "cell_type": "code",
   "execution_count": null,
   "metadata": {
    "colab": {
     "base_uri": "https://localhost:8080/"
    },
    "id": "uQvCC2sM6Fo7",
    "outputId": "ddb3aab1-b043-4815-a235-044225320161"
   },
   "outputs": [
    {
     "name": "stdout",
     "output_type": "stream",
     "text": [
      "0 1 3 2 8 9 \n"
     ]
    }
   ],
   "source": [
    "#BFS\n",
    "# Importing priority queue library\n",
    "from queue import PriorityQueue\n",
    "\n",
    "# Number of nodes in the graph\n",
    "v = 14\n",
    "# Representing the graph using an adjacency list\n",
    "graph = [[] for i in range(v)]\n",
    "\n",
    "# Best-First Search function\n",
    "def best_first_search(actual_Src, target, n):\n",
    "    # List to track visited nodes\n",
    "    visited = [False] * n\n",
    "    # Create a priority queue (used to pick nodes with the lowest cost first)\n",
    "    pq = PriorityQueue()\n",
    "\n",
    "    # Add the source node to the queue with zero cost\n",
    "    pq.put((0, actual_Src))\n",
    "    visited[actual_Src] = True  # وضع العقدة المصدر كعقدة تمت زيارتها\n",
    "\n",
    "    # While the queue is not empty\n",
    "    while pq.empty() == False:\n",
    "        # Extract the node with the lowest cost\n",
    "        u = pq.get()[1]\n",
    "        print(u, end=\" \")  # طباعة العقدة الحالية\n",
    "\n",
    "        # If the current node is the target, stop searching\n",
    "        if u == target:\n",
    "            break\n",
    "\n",
    "        # Visit the neighbors of the current node\n",
    "        for v, c in graph[u]:\n",
    "            if visited[v] == False:  # إذا كانت العقدة المجاورة لم تُزر من قبل\n",
    "                visited[v] = True  # وضع العقدة المجاورة كعقدة تمت زيارتها\n",
    "                pq.put((c, v))  # إضافة العقدة المجاورة إلى الطابور مع التكلفة\n",
    "\n",
    "    print()  # إضافة سطر جديد بعد الانتهاء من الطباعة\n",
    "\n",
    "# دالة لإضافة الحواف إلى الرسم البياني (ربط عقدتين معًا بتكلفة معينة)\n",
    "def addedge(x, y, cost):\n",
    "    graph[x].append((y, cost))  # إضافة العقدة y كجار للعقدة x\n",
    "    graph[y].append((x, cost))  # إضافة العقدة x كجار للعقدة y\n",
    "\n",
    "# إضافة الحواف مع التكاليف بين العقد\n",
    "addedge(0, 1, 3)\n",
    "addedge(0, 2, 6)\n",
    "addedge(0, 3, 5)\n",
    "addedge(1, 4, 9)\n",
    "addedge(1, 5, 8)\n",
    "addedge(2, 6, 12)\n",
    "addedge(2, 7, 14)\n",
    "addedge(3, 8, 7)\n",
    "addedge(8, 9, 5)\n",
    "addedge(8, 10, 6)\n",
    "addedge(9, 11, 1)\n",
    "addedge(9, 12, 10)\n",
    "addedge(9, 13, 2)\n",
    "\n",
    "# تحديد العقدة المصدر والعقدة الهدف\n",
    "source = 0\n",
    "target = 9\n",
    "\n",
    "# استدعاء دالة البحث الأفضل أولًا للبحث بين العقدة المصدر والعقدة الهدف\n",
    "best_first_search(source, target, v)\n"
   ]
  },
  {
   "cell_type": "code",
   "execution_count": null,
   "metadata": {
    "colab": {
     "base_uri": "https://localhost:8080/"
    },
    "id": "ADtjB6mVrwMt",
    "outputId": "1d8c9d83-529e-48ae-f095-93d629417df0"
   },
   "outputs": [
    {
     "name": "stdout",
     "output_type": "stream",
     "text": [
      "Yes Goal : E\n"
     ]
    }
   ],
   "source": [
    "#DFS\n",
    "class Node:\n",
    "    def __init__(self, value):\n",
    "        self.value = value\n",
    "        self.children = []\n",
    "\n",
    "    def add_child(self, child_node):\n",
    "        self.children.append(child_node)\n",
    "\n",
    "def depth_limit_search(node, target, depth_limit):\n",
    "    if depth_limit < 0:\n",
    "        return None\n",
    "    if node.value == target:\n",
    "        return node\n",
    "    for child in node.children:\n",
    "        result = depth_limit_search(child, target, depth_limit - 1)\n",
    "        if result is not None:\n",
    "            return result\n",
    "    return None\n",
    "\n",
    "if __name__ == \"__main__\":\n",
    "    root = Node(\"A\")\n",
    "    child1 = Node(\"B\")\n",
    "    child2 = Node(\"C\")\n",
    "    root.add_child(child1)\n",
    "    root.add_child(child2)\n",
    "    child1.add_child(Node(\"D\"))\n",
    "    child1.add_child(Node(\"E\"))\n",
    "    child2.add_child(Node(\"F\"))\n",
    "\n",
    "    target_node = depth_limit_search(root, \"E\", 2)\n",
    "    if target_node:\n",
    "        print(f\"Yes Goal : {target_node.value}\")\n",
    "    else:\n",
    "        print(\"No Goal\")"
   ]
  },
  {
   "cell_type": "code",
   "execution_count": null,
   "metadata": {
    "colab": {
     "base_uri": "https://localhost:8080/"
    },
    "id": "u7mPvq4B74pG",
    "outputId": "3d728ff3-c556-4089-8643-ae1e76eb57ca"
   },
   "outputs": [
    {
     "name": "stdout",
     "output_type": "stream",
     "text": [
      "Path to goal K: A->C->G->N\n"
     ]
    }
   ],
   "source": [
    "# hill-climbing\n",
    "# تعريف فئة Node لتمثيل العقد\n",
    "class Node:\n",
    "    def __init__(self, name, cost):\n",
    "        self.name = name    # اسم العقدة\n",
    "        self.cost = cost    # تكلفة الوصول إلى العقدة\n",
    "        self.children = []  # قائمة تحتوي على الأبناء\n",
    "\n",
    "    # دالة لإضافة الأبناء إلى العقدة\n",
    "    def add_child(self, child_node):\n",
    "        self.children.append(child_node)\n",
    "\n",
    "# دالة لتنفيذ خوارزمية التسلق البسيط\n",
    "def simple_hill_climbing(start_node, goal_node):\n",
    "    current_node = start_node   # البداية من العقدة المصدر\n",
    "    path = [current_node.name]  # مسار البحث يبدأ بالعقدة المصدر\n",
    "\n",
    "    # استمر في البحث حتى نصل إلى العقدة الهدف\n",
    "    while current_node != goal_node:\n",
    "        next_node = None  # عقدة مجاورة أفضل (التي تحتوي على أقل تكلفة)\n",
    "\n",
    "        # المرور عبر الأبناء واختيار العقدة التي تحتوي على أقل تكلفة\n",
    "        for child in current_node.children:\n",
    "            if child.cost < current_node.cost:  # إذا كانت تكلفة الابن أقل من تكلفة العقدة الحالية\n",
    "                next_node = child  # تعيين العقدة المجاورة كالعقدة التالية\n",
    "                break\n",
    "\n",
    "        # إذا وجدنا عقدة مجاورة أفضل، ننتقل إليها\n",
    "        if next_node:\n",
    "            current_node = next_node\n",
    "            path.append(current_node.name)  # إضافة العقدة الجديدة إلى المسار\n",
    "        else:\n",
    "            break  # إذا لم نجد عقدة مجاورة أفضل، نتوقف عن البحث\n",
    "\n",
    "    return path  # إرجاع المسار الذي تم الوصول إليه\n",
    "\n",
    "# إنشاء العقد\n",
    "A = Node('A', 9)\n",
    "B = Node('B', 10)\n",
    "C = Node('C', 8)\n",
    "D = Node('D', 4)\n",
    "E = Node('E', 8)\n",
    "F = Node('F', 9)\n",
    "G = Node('G', 7)\n",
    "H = Node('H', 10)\n",
    "K = Node('K', 8)\n",
    "N = Node('N', 0)\n",
    "\n",
    "# ربط العقد ببعضها البعض\n",
    "A.add_child(B)\n",
    "A.add_child(C)\n",
    "A.add_child(D)\n",
    "B.add_child(E)\n",
    "B.add_child(F)\n",
    "C.add_child(G)\n",
    "C.add_child(H)\n",
    "D.add_child(K)\n",
    "G.add_child(N)\n",
    "H.add_child(N)\n",
    "\n",
    "# استدعاء دالة التسلق البسيط للبحث عن المسار من A إلى K\n",
    "PATH = simple_hill_climbing(A, K)\n",
    "\n",
    "# طباعة المسار الذي تم العثور عليه\n",
    "print(\"Path to goal K:\", \"->\".join(PATH))\n"
   ]
  },
  {
   "cell_type": "code",
   "execution_count": null,
   "metadata": {
    "colab": {
     "base_uri": "https://localhost:8080/"
    },
    "id": "xcfWAoekleQ7",
    "outputId": "255f1c01-b2c0-40fc-8f04-812522c1c90d"
   },
   "outputs": [
    {
     "name": "stdout",
     "output_type": "stream",
     "text": [
      "The optimal value is: 6\n"
     ]
    }
   ],
   "source": [
    "####### minimax\n",
    "def minimax(node, depth, maximizing):\n",
    "    if depth == 0 or isinstance(node, int):\n",
    "        return node\n",
    "\n",
    "    if maximizing:\n",
    "        max_eval = float('-inf')\n",
    "        for child in node:\n",
    "            eval = minimax(child, depth - 1, False)\n",
    "            max_eval = max(max_eval, eval)\n",
    "        return max_eval\n",
    "    else:\n",
    "        min_eval = float('inf')\n",
    "        for child in node:\n",
    "            eval = minimax(child, depth - 1, True)\n",
    "            min_eval = min(min_eval, eval)\n",
    "        return min_eval\n",
    "\n",
    "tree = [\n",
    "    [3, 5],\n",
    "    [6, 9],\n",
    "    [1, 2],\n",
    "    [0, -1]\n",
    "]\n",
    "\n",
    "root_value = minimax(tree, depth=3, maximizing=True)\n",
    "\n",
    "print(\"The optimal value is:\", root_value)\n"
   ]
  },
  {
   "cell_type": "code",
   "execution_count": null,
   "metadata": {
    "id": "eAT7JKAxrM-T"
   },
   "outputs": [],
   "source": []
  },
  {
   "cell_type": "code",
   "execution_count": null,
   "metadata": {
    "colab": {
     "base_uri": "https://localhost:8080/"
    },
    "id": "A1yvt4lZwyhv",
    "outputId": "bf8068bd-1cd4-4907-b5ca-bff08990bfe4"
   },
   "outputs": [
    {
     "name": "stdout",
     "output_type": "stream",
     "text": [
      "Generation 1:\n",
      "Generation 2:\n"
     ]
    }
   ],
   "source": [
    "import random\n",
    "decimal_population = [13,24,8,19]\n",
    "binary_population = [format(num, '05b') for num in decimal_population]\n",
    "\n",
    "def fitness(x):\n",
    "  return x**2\n",
    "def calculate_expected_count(fitness_values):\n",
    "  average_fitness = sum(fitness_values) / len(fitness_values)\n",
    "  expected_count = [fitness / average_fitness for fitness in fitness_values]\n",
    "  return expected_count\n",
    "def crossover(parent1,parent2,crossover_point):\n",
    "  child1= parent1[:crossover_point]+parent2[crossover_point:]\n",
    "  child2= parent2[:crossover_point]+parent1[crossover_point:]\n",
    "  return child1,child2\n",
    "def mutation(binary_string, mutation_rate=0.01):\n",
    "    mutated = ''.join(str(1 - int(bit)) if random.random() < mutation_rate else bit for bit in binary_string)\n",
    "    return mutated\n",
    "num_generations = 2\n",
    "population_size = len(binary_population)\n",
    "for generation in range(num_generations):\n",
    "  print(f\"Generation {generation + 1}:\")\n",
    "\n",
    "decimal_population = [int(binary, 2) for binary in binary_population]\n",
    "\n",
    "\n",
    "fitness_values = [fitness(x) for x in decimal_population]\n",
    "\n",
    "\n",
    "total_fitness = sum(fitness_values)\n",
    "\n",
    "\n",
    "average_fitness = total_fitness / len(fitness_values)\n",
    "\n",
    "\n",
    "probabilities = [f / total_fitness for f in fitness_values]\n",
    "\n",
    "\n",
    "expected_count = calculate_expected_count(fitness_values)\n",
    "\n",
    "\n",
    "actual_counts = [round(ec) for ec in expected_count]\n",
    "print(\"population details:\")\n",
    "print(\"indivdual / decimal/ / fitness / probability / expected count / actual count \")\n",
    "for ind , decimal , fit ,prob , exp , act in zip(binary_population,decimal_population,fitness_values,probabilities,expected_count,actual_counts):\n",
    "  print(f\"{ind:^10} / {decimal:^7} / {fit:^7} / {prob:^11.2f} / {exp:^14.2f} / {act:^12}\")\n",
    "  if len(selected_population) > population_size:\n",
    "    selected_population = random.sample(selected_population, population_size)\n",
    "    elif len(selected_poplation) < population_size\n",
    "     while len(selected_population) < population_size:\n",
    "      selected_population.append(random.choice(binary_population))\n",
    "\n",
    "\n",
    "\n",
    "\n"
   ]
  }
 ],
 "metadata": {
  "colab": {
   "provenance": []
  },
  "kernelspec": {
   "display_name": "Python 3",
   "name": "python3"
  },
  "language_info": {
   "name": "python"
  }
 },
 "nbformat": 4,
 "nbformat_minor": 0
}
