{
 "cells": [
  {
   "cell_type": "code",
   "execution_count": 1,
   "metadata": {
    "colab": {
     "base_uri": "https://localhost:8080/"
    },
    "id": "fRjIcyQmqFeB",
    "outputId": "632a3f20-350a-4ea5-d830-3c1ec8b5b534"
   },
   "outputs": [
    {
     "name": "stdout",
     "output_type": "stream",
     "text": [
      "Solution:\n",
      ". . . . . . . Q\n",
      ". . . Q . . . .\n",
      "Q . . . . . . .\n",
      ". . Q . . . . .\n",
      ". . . . . Q . .\n",
      ". Q . . . . . .\n",
      ". . . . . . Q .\n",
      ". . . . Q . . .\n"
     ]
    }
   ],
   "source": [
    "from collections import deque\n",
    "\n",
    "def is_safe(board, row, col):\n",
    "\n",
    "    #This function checks whether it is safe to place a queen at position (row, col)\n",
    "    #It checks for conflicts in the same column and diagonals.\n",
    "\n",
    "\n",
    "    # Check the same column (up to the current row)\n",
    "    for i in range(row):\n",
    "        if board[i][col] == 1:  # If there's a queen in the same column, return False\n",
    "            return False\n",
    "\n",
    "    # Check upper diagonal on left side\n",
    "    for i, j in zip(range(row, -1, -1), range(col, -1, -1)):\n",
    "        if board[i][j] == 1:  # If there's a queen in the diagonal, return False\n",
    "            return False\n",
    "\n",
    "    # Check upper diagonal on right side\n",
    "    for i, j in zip(range(row, -1, -1), range(col, len(board))):\n",
    "        if board[i][j] == 1:  # If there's a queen in the diagonal, return False\n",
    "            return False\n",
    "\n",
    "    return True  # If no conflicts, the position is safe\n",
    "\n",
    "def solve_n_queens(n):\n",
    "\n",
    "    #This function attempts to solve the N-Queens problem using a BFS approach.\n",
    "    #It returns a solution if one is found, otherwise returns None.\n",
    "\n",
    "\n",
    "    # Initialize an empty board of size n x n\n",
    "    board = [[0] * n for _ in range(n)]\n",
    "\n",
    "    # BFS queue to store the current row and the board state\n",
    "    queue = deque([(0, board)])  # (row, board)\n",
    "\n",
    "    # Perform BFS\n",
    "    while queue:\n",
    "        row, current_board = queue.popleft()  # Get the current state from the queue\n",
    "\n",
    "        # If we've placed queens in all rows, we've found a solution\n",
    "        if row == n:\n",
    "            return current_board\n",
    "\n",
    "        # Try placing a queen in each column of the current row\n",
    "        for col in range(n):\n",
    "            if is_safe(current_board, row, col):  # Check if placing a queen is safe\n",
    "                # Create a deep copy of the board to avoid modifying the same board\n",
    "                new_board = [row[:] for row in current_board]\n",
    "\n",
    "                # Place the queen in the current position\n",
    "                new_board[row][col] = 1\n",
    "\n",
    "                # Add the next row and the new board state to the queue\n",
    "                queue.appendleft((row + 1, new_board))\n",
    "\n",
    "    # If no solution is found, return None\n",
    "    return None\n",
    "\n",
    "def print_board(board):\n",
    "\n",
    "    #This function prints the board in a readable format, where 'Q' represents a queen and '.' represents an empty space.\n",
    "    for row in board:\n",
    "        print(\" \".join([\"Q\" if col == 1 else \".\" for col in row]))\n",
    "\n",
    "if __name__ == \"__main__\":\n",
    "    n = 8  # Size of the board (8x8 for the 8-Queens problem)\n",
    "    solution = solve_n_queens(n)\n",
    "\n",
    "    if solution:\n",
    "        print(\"Solution:\")\n",
    "        print_board(solution)  # Print the solution if one is found\n",
    "    else:\n",
    "        print(\"No solution found.\")  # Print if no solution is found\n"
   ]
  }
 ],
 "metadata": {
  "colab": {
   "provenance": []
  },
  "kernelspec": {
   "display_name": "Python 3",
   "name": "python3"
  },
  "language_info": {
   "name": "python"
  }
 },
 "nbformat": 4,
 "nbformat_minor": 0
}
