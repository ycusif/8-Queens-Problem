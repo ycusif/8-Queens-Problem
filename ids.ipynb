{
 "cells": [
  {
   "cell_type": "code",
   "execution_count": null,
   "metadata": {
    "colab": {
     "base_uri": "https://localhost:8080/"
    },
    "id": "klOVPM6Uj7ZJ",
    "outputId": "14bc804d-ec1a-46b8-875c-c31fde052c87"
   },
   "outputs": [
    {
     "name": "stdout",
     "output_type": "stream",
     "text": [
      "The solution to the 8-Queens problem:\n",
      ".......Q\n",
      ".Q......\n",
      "...Q....\n",
      "Q.......\n",
      "......Q.\n",
      "....Q...\n",
      "..Q.....\n",
      ".....Q..\n"
     ]
    }
   ],
   "source": [
    "def is_safe(board, row, col):\n",
    "    \"\"\"\n",
    "    Check if placing a queen at board[row][col] is safe.\n",
    "    \"\"\"\n",
    "    for i in range(row):\n",
    "        # Check vertical attack\n",
    "        if board[i] == col:\n",
    "            return False\n",
    "        # Check diagonal attacks\n",
    "        if abs(board[i] - col) == abs(i - row):\n",
    "            return False\n",
    "    return True\n",
    "\n",
    "\n",
    "def find_all_solutions(n):\n",
    "    \"\"\"\n",
    "    Solve the N-Queens problem and return all solutions.\n",
    "    \"\"\"\n",
    "    def dfs(board, row):\n",
    "        \"\"\"\n",
    "        Perform DFS to find all solutions.\n",
    "        \"\"\"\n",
    "        if row == n:\n",
    "            # A valid solution is found\n",
    "            solutions.append(board[:])\n",
    "            return\n",
    "\n",
    "        for col in range(n):\n",
    "            if is_safe(board, row, col):\n",
    "                board[row] = col\n",
    "                dfs(board, row + 1)\n",
    "                board[row] = -1  # Backtrack\n",
    "\n",
    "    solutions = []\n",
    "    board = [-1] * n  # Initialize board with no queens\n",
    "    dfs(board, 0)\n",
    "    return solutions\n",
    "\n",
    "\n",
    "# Solve the 8-Queens problem and get all solutions\n",
    "n = 8\n",
    "all_solutions = find_all_solutions(n)\n",
    "\n",
    "# Display the 89th solution (index 88)\n",
    "if len(all_solutions) >= 89:\n",
    "    print(\"The solution to the 8-Queens problem:\")\n",
    "    for row in all_solutions[88]:  # Access the 89th solution\n",
    "        print(\"\".join(\"Q\" if col == row else \".\" for col in range(n)))\n",
    "else:\n",
    "    print(\"There are less than 89 solutions.\")"
   ]
  },
  {
   "cell_type": "code",
   "execution_count": null,
   "metadata": {
    "id": "EEl3yCT8ZFa8"
   },
   "outputs": [],
   "source": []
  }
 ],
 "metadata": {
  "colab": {
   "provenance": []
  },
  "kernelspec": {
   "display_name": "Python 3",
   "name": "python3"
  },
  "language_info": {
   "name": "python"
  }
 },
 "nbformat": 4,
 "nbformat_minor": 0
}
