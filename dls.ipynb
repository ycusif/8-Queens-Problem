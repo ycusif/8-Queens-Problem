{
 "cells": [
  {
   "cell_type": "code",
   "execution_count": null,
   "metadata": {
    "colab": {
     "base_uri": "https://localhost:8080/"
    },
    "id": "3tjCIgbOqh7h",
    "outputId": "86186e10-e01c-4a95-bb0b-bb4a438ed607"
   },
   "outputs": [
    {
     "name": "stdout",
     "output_type": "stream",
     "text": [
      "Solution:\n",
      "Q . . . . . . .\n",
      ". . . . Q . . .\n",
      ". . . . . . . Q\n",
      ". . . . . Q . .\n",
      ". . Q . . . . .\n",
      ". . . . . . Q .\n",
      ". Q . . . . . .\n",
      ". . . Q . . . .\n"
     ]
    }
   ],
   "source": [
    "#DLS\n",
    "def is_safe(board, row, col):\n",
    "    \"\"\"Checks if placing a queen at (row, col) is safe.\"\"\"\n",
    "    # Check the same column\n",
    "    for i in range(row):\n",
    "        if board[i][col] == 1:\n",
    "            return False\n",
    "\n",
    "    # Check the upper-left diagonal\n",
    "    for i, j in zip(range(row, -1, -1), range(col, -1, -1)):\n",
    "        if board[i][j] == 1:\n",
    "            return False\n",
    "\n",
    "    # Check the upper-right diagonal\n",
    "    for i, j in zip(range(row, -1, -1), range(col, len(board))):\n",
    "        if board[i][j] == 1:\n",
    "            return False\n",
    "\n",
    "    return True\n",
    "\n",
    "def solve_n_queens_dls(board, row, col, limit):\n",
    "    #Solves the N-Queens problem using Depth-Limited Search\n",
    "    if row == len(board):\n",
    "        return True\n",
    "\n",
    "    if col >= len(board):\n",
    "        return False\n",
    "\n",
    "    if limit == 0:\n",
    "        return False\n",
    "\n",
    "    if is_safe(board, row, col):\n",
    "        board[row][col] = 1\n",
    "        if solve_n_queens_dls(board, row + 1, 0, limit - 1):\n",
    "            return True\n",
    "        board[row][col] = 0\n",
    "\n",
    "    return solve_n_queens_dls(board, row, col + 1, limit)\n",
    "\n",
    "def print_board(board):\n",
    "    #Prints the chessboard with queens.\n",
    "    for row in board:\n",
    "        print(\" \".join(\"Q\" if cell == 1 else \".\" for cell in row))\n",
    "\n",
    "def main():\n",
    "    N = 8  # Number of queens\n",
    "    board = [[0] * N for _ in range(N)]\n",
    "    limit = N  # Initial depth limit\n",
    "\n",
    "\n",
    "    if solve_n_queens_dls(board, 0, 0, limit):\n",
    "        print(\"Solution:\")\n",
    "        print_board(board)\n",
    "    else:\n",
    "        print(\"No solution found within the depth limit.\")\n",
    "\n",
    "if __name__ == \"__main__\":\n",
    "    main()"
   ]
  }
 ],
 "metadata": {
  "colab": {
   "provenance": []
  },
  "kernelspec": {
   "display_name": "Python 3",
   "name": "python3"
  },
  "language_info": {
   "name": "python"
  }
 },
 "nbformat": 4,
 "nbformat_minor": 0
}
